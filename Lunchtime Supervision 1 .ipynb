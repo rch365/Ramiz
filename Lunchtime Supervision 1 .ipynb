{
 "cells": [
  {
   "cell_type": "markdown",
   "metadata": {},
   "source": [
    "# Luncthime Supervision 1 \n",
    "22 October 2019\n"
   ]
  },
  {
   "cell_type": "markdown",
   "metadata": {},
   "source": [
    "***\n",
    "### 1. Reading MESA Models (internal structure)"
   ]
  },
  {
   "cell_type": "code",
   "execution_count": 6,
   "metadata": {},
   "outputs": [
    {
     "name": "stdout",
     "output_type": "stream",
     "text": [
      "   mass    q    radius    logRho  temperature  luminosity      pressure  \\\n",
      "0   1.0  1.0  0.994884 -6.757732  5777.512759    0.986893  65375.421203   \n",
      "\n",
      "           pgas          grav      eps_grav     ...      burn_o  brunt_N2  \\\n",
      "0  65372.611274  27691.377288 -6.312850e-07     ...         0.0  0.000509   \n",
      "\n",
      "      brunt_A  lamb_Sl1  brunt_B  log_conv_vel  brunt_N_div_r_integral  \\\n",
      "0  1271.58346   2.54625      0.0         -99.0                     1.0   \n",
      "\n",
      "   acoustic_radius    logtau  frac_type2  \n",
      "0      3504.263375 -0.505628         0.0  \n",
      "\n",
      "[1 rows x 59 columns]\n"
     ]
    }
   ],
   "source": [
    "import pandas as pd\n",
    "import numpy as np\n",
    "from matplotlib import pyplot as plt\n",
    "\n",
    "filename=['m1.00.ovh0.20.ovhe0.50.z0.01756.y0.26618_n7.profile.txt',\n",
    "          'm2.00.ovh0.20.ovhe0.50.z0.01756.y0.26618_n6.profile.txt',\n",
    "         'm1.00.ovh0.20.ovhe0.50.z0.01756.y0.26618_n100.profile.txt']\n",
    "\n",
    "choice=0\n",
    "M = pd.read_csv(filename[choice], delim_whitespace = True, skiprows = 5)\n",
    "print(M.head(1))\n",
    "\n"
   ]
  },
  {
   "cell_type": "code",
   "execution_count": 7,
   "metadata": {
    "scrolled": true
   },
   "outputs": [
    {
     "data": {
      "text/plain": [
       "['mass',\n",
       " 'q',\n",
       " 'radius',\n",
       " 'logRho',\n",
       " 'temperature',\n",
       " 'luminosity',\n",
       " 'pressure',\n",
       " 'pgas',\n",
       " 'grav',\n",
       " 'eps_grav',\n",
       " 'net_nuclear_energy',\n",
       " 'eps_nuc_plus_nuc_neu',\n",
       " 'velocity',\n",
       " 'csound',\n",
       " 'eta',\n",
       " 'mu',\n",
       " 'gradT',\n",
       " 'grada',\n",
       " 'gradr',\n",
       " 'mixing_type',\n",
       " 'mlt_mixing_type',\n",
       " 'mlt_mixing_length',\n",
       " 'gradL',\n",
       " 'log_D_mix',\n",
       " 'pressure_scale_height',\n",
       " 'cv',\n",
       " 'cp',\n",
       " 'gamma1',\n",
       " 'chiRho',\n",
       " 'chiT',\n",
       " 'opacity',\n",
       " 'h1',\n",
       " 'h2',\n",
       " 'he3',\n",
       " 'he4',\n",
       " 'li7',\n",
       " 'be7',\n",
       " 'b8',\n",
       " 'c12',\n",
       " 'n14',\n",
       " 'o16',\n",
       " 'ne20',\n",
       " 'mg24',\n",
       " 'z',\n",
       " 'pp',\n",
       " 'cno',\n",
       " 'tri_alfa',\n",
       " 'burn_c',\n",
       " 'burn_n',\n",
       " 'burn_o',\n",
       " 'brunt_N2',\n",
       " 'brunt_A',\n",
       " 'lamb_Sl1',\n",
       " 'brunt_B',\n",
       " 'log_conv_vel',\n",
       " 'brunt_N_div_r_integral',\n",
       " 'acoustic_radius',\n",
       " 'logtau',\n",
       " 'frac_type2']"
      ]
     },
     "execution_count": 7,
     "metadata": {},
     "output_type": "execute_result"
    }
   ],
   "source": [
    "list(M.columns)"
   ]
  },
  {
   "cell_type": "markdown",
   "metadata": {},
   "source": [
    "##### Simple plot: hydrogen and helium mass fraction as a function of mass ($m(r)$)"
   ]
  },
  {
   "cell_type": "code",
   "execution_count": 11,
   "metadata": {},
   "outputs": [
    {
     "data": {
      "text/plain": [
       "<matplotlib.legend.Legend at 0x113b5c160>"
      ]
     },
     "execution_count": 11,
     "metadata": {},
     "output_type": "execute_result"
    },
    {
     "data": {
      "image/png": "[encoded data removed]",
      "text/plain": [
       "<Figure size 648x504 with 1 Axes>"
      ]
     },
     "metadata": {},
     "output_type": "display_data"
    }
   ],
   "source": [
    "fig = plt.figure(figsize=(9, 7))\n",
    "plt.plot(M['mass'],M['h1'],label='X')\n",
    "plt.plot(M['mass'],M['he4'],label='Y')\n",
    "plt.xlabel('m')\n",
    "plt.ylabel('mass fraction')\n",
    "plt.legend()"
   ]
  },
  {
   "cell_type": "markdown",
   "metadata": {},
   "source": [
    "***\n",
    "###  2. Mean molecular weight\n",
    "\n",
    "1. Review the definition of the mean molecular weight $\\mu$ and its approximated expression $\\bar{\\mu}$: $$\\bar{\\mu}=\\left( \\frac{3X}{2} + \\frac{Y}{4} + \\frac{1}{2} \\right)^{-1}$$ What is the approximated value of $\\mu$ for a gas made of hydrogen only, helium only, and when no hydrogen and helium are left?\n",
    "\n",
    "2. Plot the exact mean molecular weight (variable `mu`) as a function of `mass` for the 3 models and explain the behaviour (warning: model 3 is tricky!).  \n",
    "\n",
    "3. Compare the exact value of $\\mu$ with that from the \n",
    "approximated expression.  Where in the star the difference is more pronounced? Close to the surface, or near the core?\n",
    "\n"
   ]
  },
  {
   "cell_type": "markdown",
   "metadata": {},
   "source": [
    "***\n",
    "###  3. Energy generation rate $\\epsilon$\n",
    "\n",
    "1. Is the luminosity distrubution as a function of mass near the core of models 1,2, and 3 similar? If not, why? How is L related to the $\\epsilon$, i.e. the nuclear energy generation rate per unit mass?\n",
    "\n",
    "2. Assume that $\\epsilon$ depens on temperature as: $$\\epsilon \\propto T^n $$ For each of the 3 models, evaluate $n$  in the regions near the centre, and discuss which are likely to be the relevant reaction rates at play, and why $n$ is different.\n",
    "\n"
   ]
  }
 ],
 "metadata": {
  "kernelspec": {
   "display_name": "Python 3",
   "language": "python",
   "name": "python3"
  },
  "language_info": {
   "codemirror_mode": {
    "name": "ipython",
    "version": 3
   },
   "file_extension": ".py",
   "mimetype": "text/x-python",
   "name": "python",
   "nbconvert_exporter": "python",
   "pygments_lexer": "ipython3",
   "version": "3.6.0"
  }
 },
 "nbformat": 4,
 "nbformat_minor": 2
}
